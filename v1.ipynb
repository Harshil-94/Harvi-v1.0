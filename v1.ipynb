{
 "cells": [
  {
   "cell_type": "code",
   "execution_count": 1,
   "metadata": {},
   "outputs": [
    {
     "name": "stdout",
     "output_type": "stream",
     "text": [
      "69xygl1c8bp691ebik5*8lefug2ytmqpdvgtbov5z2mrk2p33twq86asu0g64eqaeizk5799mc11zop874rhall533feuhq2519jt&d7osa1bgp0auefvpcki8\n"
     ]
    }
   ],
   "source": [
    "import random\n",
    "\n",
    "def bluffer(n):\n",
    "    result_str = ''.join((random.choice('abcdefghijklmnopqrstwuvxyz0123456789') for i in range(n)))\n",
    "    return (result_str)\n",
    "def specialiser():\n",
    "    result_str = ''.join((random.choice('!@#$%^&*(){}_+|:;?><')))\n",
    "    return (result_str)\n",
    "specialiser()\n",
    "def puzzler(data,key):\n",
    "    #diff=list(map(list,data))\n",
    "    #len1=len(diff)\n",
    "    result=\"\"\n",
    "    for i in data:\n",
    "        puz1 = ''.join((random.choice('abcdefghijklmnopqrstwuvxyz0123456789') for i in range(key)))\n",
    "        result=result+puz1+i\n",
    "    return (result)\n",
    "final=\"\"\n",
    "bluffkey1=int(random.uniform(15,20))\n",
    "bluffkey2=int(random.uniform(15,20))\n",
    "part1=bluffer(bluffkey1)\n",
    "part2=specialiser()\n",
    "part3=puzzler(\"topsecret\",8)\n",
    "part4=specialiser()\n",
    "part5=bluffer(bluffkey2)\n",
    "part6=\"8\"\n",
    "final=part1+part2+part3+part4+part5+part6\n",
    "print(final)\n"
   ]
  },
  {
   "cell_type": "code",
   "execution_count": 2,
   "metadata": {},
   "outputs": [
    {
     "name": "stdout",
     "output_type": "stream",
     "text": [
      "topsecret\n"
     ]
    }
   ],
   "source": [
    "#code=\"l6wtibx7558v8of1ilj)233fqhuxtkbeqfpkilebamxlbxteno}djil8wgk90c33uant5\"\n",
    "code=final\n",
    "len1=len(code)\n",
    "strt=0\n",
    "ed=0\n",
    "knower=0\n",
    "key=int(code[-1])\n",
    "word=\"\"\n",
    "for i in range(0,len1):\n",
    "    if(code[i] in \"!@#$%^&*(){}_+|:;?><\"):\n",
    "        strt=i\n",
    "        knower=i\n",
    "        break\n",
    "for i in range(knower+1,len1):\n",
    "    if(code[i] in \"!@#$%^&*(){}_+|:;?><\"):\n",
    "        ed=i\n",
    "        break\n",
    "for i in range(strt+key+1,ed,key+1):\n",
    "    word=word+code[i]\n",
    "print(word)\n"
   ]
  }
 ],
 "metadata": {
  "interpreter": {
   "hash": "7d04c2ccdc77879c44c0e38a475c5c944666b751d27f26244a0b0bd35fcecd56"
  },
  "kernelspec": {
   "display_name": "Python 3.10.2 64-bit",
   "language": "python",
   "name": "python3"
  },
  "language_info": {
   "codemirror_mode": {
    "name": "ipython",
    "version": 3
   },
   "file_extension": ".py",
   "mimetype": "text/x-python",
   "name": "python",
   "nbconvert_exporter": "python",
   "pygments_lexer": "ipython3",
   "version": "3.10.2"
  },
  "orig_nbformat": 4
 },
 "nbformat": 4,
 "nbformat_minor": 2
}
